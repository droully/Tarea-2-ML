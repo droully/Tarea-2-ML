{
 "cells": [
  {
   "cell_type": "markdown",
   "metadata": {},
   "source": [
    "## 3. *Taxi Trip Duration*: Predicción de duración de viaje"
   ]
  },
  {
   "cell_type": "code",
   "execution_count": 200,
   "metadata": {},
   "outputs": [],
   "source": [
    "import numpy as np\n",
    "def rmsle(predicted,real):    \n",
    "    suma=0.0\n",
    "    for x in range(len(predicted)):\n",
    "        p = np.log(predicted[x]+1)\n",
    "        r = np.log(real[x]+1)\n",
    "        suma += np.power((p - r),2)\n",
    "    return np.sqrt(suma/len(predicted))"
   ]
  },
  {
   "cell_type": "markdown",
   "metadata": {},
   "source": [
    ">a) Cargue los datos de entrenamiento como dataframes de pandas. Describa las variables involucradas en el problema, explorando el tipo de datos de que se trata, el número de valores distinto. Grafique adecuadamente el valor a predecir con algún gráfico que resuma su comportamiento, e.g. un histograma, boxplot u otro."
   ]
  },
  {
   "cell_type": "code",
   "execution_count": 110,
   "metadata": {},
   "outputs": [
    {
     "name": "stdout",
     "output_type": "stream",
     "text": [
      "<class 'pandas.core.frame.DataFrame'>\n",
      "RangeIndex: 1458644 entries, 0 to 1458643\n",
      "Data columns (total 11 columns):\n",
      "id                    1458644 non-null object\n",
      "vendor_id             1458644 non-null int64\n",
      "pickup_datetime       1458644 non-null object\n",
      "dropoff_datetime      1458644 non-null object\n",
      "passenger_count       1458644 non-null int64\n",
      "pickup_longitude      1458644 non-null float64\n",
      "pickup_latitude       1458644 non-null float64\n",
      "dropoff_longitude     1458644 non-null float64\n",
      "dropoff_latitude      1458644 non-null float64\n",
      "store_and_fwd_flag    1458644 non-null object\n",
      "trip_duration         1458644 non-null int64\n",
      "dtypes: float64(4), int64(3), object(4)\n",
      "memory usage: 122.4+ MB\n"
     ]
    }
   ],
   "source": [
    "import pandas as pd\n",
    "df = pd.read_csv(\"train.csv\")\n",
    "df.info()\n",
    "df.head()\n",
    "output = df['trip_duration'].values"
   ]
  },
  {
   "cell_type": "markdown",
   "metadata": {},
   "source": [
    "Las variables del dataset son\n",
    "\n",
    "id - identificador del viaje\n",
    "\n",
    "vendor_id - identificador del proveedor del servicio\n",
    "\n",
    "pickup_datetime - fecha y hora en la que se prendio el taximetro\n",
    "\n",
    "dropoff_datetime - fecha y hora en la que se apago el taximetro\n",
    "\n",
    "passenger_count - numero de pasajeros\n",
    "\n",
    "pickup_longitude - longitud en la que se prendio el taximetro\n",
    "\n",
    "pickup_latitude - latitud en la que se prendio el taximetro\n",
    "\n",
    "dropoff_longitude - longitud en la que se prendio el taximetro\n",
    "\n",
    "dropoff_latitude - latitud en la que se prendio el taximetro\n",
    "\n",
    "store_and_fwd_flag - flag de si el viaje se guardo en memoria si al terminar el viaje no se podia conectar al servidor\n",
    "\n",
    "trip_duration - duracion del viaje, variable dependiente\n",
    "\n"
   ]
  },
  {
   "cell_type": "markdown",
   "metadata": {},
   "source": [
    "Hay 1458644 datos en total, con 11 atributos"
   ]
  },
  {
   "cell_type": "code",
   "execution_count": 221,
   "metadata": {},
   "outputs": [
    {
     "name": "stdout",
     "output_type": "stream",
     "text": [
      "duracion maxima: 23.997777777777777 horas\n"
     ]
    },
    {
     "data": {
      "image/png": "[encoded data removed]",
      "text/plain": [
       "<Figure size 432x288 with 1 Axes>"
      ]
     },
     "metadata": {},
     "output_type": "display_data"
    }
   ],
   "source": [
    "import numpy as np\n",
    "import matplotlib.pyplot as plt\n",
    "\n",
    "fig, ax = plt.subplots()\n",
    "\n",
    "n, bins, patches = ax.hist(output,bins = 10)\n",
    "\n",
    "\n",
    "ax.set_xlabel('Duracion del viaje [s]')\n",
    "ax.set_ylabel('Frecuencia')\n",
    "ax.set_title(\"Histograma de duracion de viajes\")\n",
    "\n",
    "\n",
    "print(\"duracion maxima:\",max(output)/3600,\"horas\")"
   ]
  },
  {
   "cell_type": "markdown",
   "metadata": {},
   "source": [
    "Claramente hay varios outliers, primero se eliminan estos."
   ]
  },
  {
   "cell_type": "markdown",
   "metadata": {},
   "source": [
    ">b) Como puede observar en los análisis preliminares exiten algunos outliers en los datos los cuales pensamos eliminar para que no entorpezca el aprendizaje, además que son muy pocos."
   ]
  },
  {
   "cell_type": "code",
   "execution_count": 112,
   "metadata": {},
   "outputs": [
    {
     "name": "stdout",
     "output_type": "stream",
     "text": [
      "<class 'pandas.core.frame.DataFrame'>\n",
      "Int64Index: 1458640 entries, 0 to 1458643\n",
      "Data columns (total 11 columns):\n",
      "id                    1458640 non-null object\n",
      "vendor_id             1458640 non-null int64\n",
      "pickup_datetime       1458640 non-null object\n",
      "dropoff_datetime      1458640 non-null object\n",
      "passenger_count       1458640 non-null int64\n",
      "pickup_longitude      1458640 non-null float64\n",
      "pickup_latitude       1458640 non-null float64\n",
      "dropoff_longitude     1458640 non-null float64\n",
      "dropoff_latitude      1458640 non-null float64\n",
      "store_and_fwd_flag    1458640 non-null object\n",
      "trip_duration         1458640 non-null int64\n",
      "dtypes: float64(4), int64(3), object(4)\n",
      "memory usage: 133.5+ MB\n"
     ]
    }
   ],
   "source": [
    "import pandas as pd\n",
    "df = df[(df['trip_duration']<=200000)]\n",
    "df.info()\n",
    "df.head()\n",
    "output = df['trip_duration'].values\n",
    "\n"
   ]
  },
  {
   "cell_type": "markdown",
   "metadata": {},
   "source": [
    "Se reducen a 1458640 datos."
   ]
  },
  {
   "cell_type": "code",
   "execution_count": 113,
   "metadata": {},
   "outputs": [
    {
     "data": {
      "image/png": "[encoded data removed]",
      "text/plain": [
       "<Figure size 432x288 with 1 Axes>"
      ]
     },
     "metadata": {},
     "output_type": "display_data"
    },
    {
     "name": "stdout",
     "output_type": "stream",
     "text": [
      "duracion maxima: 23.997777777777777 horas\n"
     ]
    }
   ],
   "source": [
    "fig, ax = plt.subplots()\n",
    "\n",
    "n, bins, patches = ax.hist(output,bins = 20)\n",
    "\n",
    "\n",
    "ax.set_xlabel('Duracion del viaje [s]')\n",
    "ax.set_ylabel('Frecuencia')\n",
    "ax.set_title(\"Histograma de duracion de viajes, sin outliers\")\n",
    "\n",
    "\n",
    "plt.show()\n",
    "print(\"duracion maxima:\",max(output)/3600,\"horas\")"
   ]
  },
  {
   "cell_type": "code",
   "execution_count": 114,
   "metadata": {},
   "outputs": [
    {
     "data": {
      "image/png": "[encoded data removed]",
      "text/plain": [
       "<Figure size 432x288 with 1 Axes>"
      ]
     },
     "metadata": {},
     "output_type": "display_data"
    },
    {
     "name": "stdout",
     "output_type": "stream",
     "text": [
      "duracion maxima: 23.997777777777777 horas\n",
      "duracion media: 0.2646709032995728 horas\n"
     ]
    }
   ],
   "source": [
    "fig, ax = plt.subplots()\n",
    "\n",
    "df2 = df[(df['trip_duration']<=3000)]\n",
    "output2 = df2['trip_duration'].values\n",
    "\n",
    "\n",
    "n, bins, patches = ax.hist(output2,bins = 100)\n",
    "\n",
    "\n",
    "ax.set_xlabel('Duracion del viaje[s]')\n",
    "ax.set_ylabel('Frecuencia')\n",
    "ax.set_title(\"Histograma de duracion de viajes, sin outliers\")\n",
    "\n",
    "\n",
    "plt.show()\n",
    "print(\"duracion maxima:\",max(output)/3600,\"horas\")\n",
    "print(\"duracion media:\",np.mean(output)/3600,\"horas\")"
   ]
  },
  {
   "cell_type": "markdown",
   "metadata": {},
   "source": [
    "Se aprecia una asimetria positiva (skewness), y que el tiempo promedio de viaje es de 15 minutos."
   ]
  },
  {
   "cell_type": "markdown",
   "metadata": {},
   "source": [
    ">c) La primera operación que realizaremos a los datos como pre-procesamiento será la de extraer/generar características de manera manual de algunos atributos que resulta necesario hcaer, como desde la fecha (string) puede ser extraída la hora del día, creando una nueva columna denominada hour y de tipo int discreto, o bien, para la localización del viaje punto a punto se pueden extraer distintas medidas de distancia. Comente sobre el pre-procesamiento realizado. "
   ]
  },
  {
   "cell_type": "code",
   "execution_count": 115,
   "metadata": {
    "scrolled": true
   },
   "outputs": [
    {
     "data": {
      "text/html": [
       "<div>\n",
       "<style scoped>\n",
       "    .dataframe tbody tr th:only-of-type {\n",
       "        vertical-align: middle;\n",
       "    }\n",
       "\n",
       "    .dataframe tbody tr th {\n",
       "        vertical-align: top;\n",
       "    }\n",
       "\n",
       "    .dataframe thead th {\n",
       "        text-align: right;\n",
       "    }\n",
       "</style>\n",
       "<table border=\"1\" class=\"dataframe\">\n",
       "  <thead>\n",
       "    <tr style=\"text-align: right;\">\n",
       "      <th></th>\n",
       "      <th>passenger_count</th>\n",
       "      <th>pickup_longitude</th>\n",
       "      <th>pickup_latitude</th>\n",
       "      <th>dropoff_longitude</th>\n",
       "      <th>dropoff_latitude</th>\n",
       "      <th>trip_duration</th>\n",
       "      <th>hour</th>\n",
       "      <th>cday</th>\n",
       "      <th>month</th>\n",
       "      <th>distancia_viaje</th>\n",
       "      <th>distancia_viaje_km</th>\n",
       "      <th>grado_direccion</th>\n",
       "      <th>season</th>\n",
       "      <th>holiday</th>\n",
       "    </tr>\n",
       "  </thead>\n",
       "  <tbody>\n",
       "    <tr>\n",
       "      <th>0</th>\n",
       "      <td>1</td>\n",
       "      <td>-73.982155</td>\n",
       "      <td>40.767937</td>\n",
       "      <td>-73.964630</td>\n",
       "      <td>40.765602</td>\n",
       "      <td>455</td>\n",
       "      <td>17</td>\n",
       "      <td>0</td>\n",
       "      <td>3</td>\n",
       "      <td>0.017680</td>\n",
       "      <td>1.498523</td>\n",
       "      <td>99.970196</td>\n",
       "      <td>1</td>\n",
       "      <td>0</td>\n",
       "    </tr>\n",
       "    <tr>\n",
       "      <th>1</th>\n",
       "      <td>1</td>\n",
       "      <td>-73.980415</td>\n",
       "      <td>40.738564</td>\n",
       "      <td>-73.999481</td>\n",
       "      <td>40.731152</td>\n",
       "      <td>663</td>\n",
       "      <td>0</td>\n",
       "      <td>6</td>\n",
       "      <td>6</td>\n",
       "      <td>0.020456</td>\n",
       "      <td>1.805510</td>\n",
       "      <td>242.846232</td>\n",
       "      <td>2</td>\n",
       "      <td>0</td>\n",
       "    </tr>\n",
       "    <tr>\n",
       "      <th>2</th>\n",
       "      <td>1</td>\n",
       "      <td>-73.979027</td>\n",
       "      <td>40.763939</td>\n",
       "      <td>-74.005333</td>\n",
       "      <td>40.710087</td>\n",
       "      <td>2124</td>\n",
       "      <td>11</td>\n",
       "      <td>1</td>\n",
       "      <td>1</td>\n",
       "      <td>0.059934</td>\n",
       "      <td>6.385108</td>\n",
       "      <td>200.319835</td>\n",
       "      <td>0</td>\n",
       "      <td>0</td>\n",
       "    </tr>\n",
       "    <tr>\n",
       "      <th>3</th>\n",
       "      <td>1</td>\n",
       "      <td>-74.010040</td>\n",
       "      <td>40.719971</td>\n",
       "      <td>-74.012268</td>\n",
       "      <td>40.706718</td>\n",
       "      <td>429</td>\n",
       "      <td>19</td>\n",
       "      <td>2</td>\n",
       "      <td>4</td>\n",
       "      <td>0.013438</td>\n",
       "      <td>1.485501</td>\n",
       "      <td>187.262300</td>\n",
       "      <td>1</td>\n",
       "      <td>0</td>\n",
       "    </tr>\n",
       "    <tr>\n",
       "      <th>4</th>\n",
       "      <td>1</td>\n",
       "      <td>-73.973053</td>\n",
       "      <td>40.793209</td>\n",
       "      <td>-73.972923</td>\n",
       "      <td>40.782520</td>\n",
       "      <td>435</td>\n",
       "      <td>13</td>\n",
       "      <td>5</td>\n",
       "      <td>3</td>\n",
       "      <td>0.010690</td>\n",
       "      <td>1.188590</td>\n",
       "      <td>179.473585</td>\n",
       "      <td>1</td>\n",
       "      <td>0</td>\n",
       "    </tr>\n",
       "  </tbody>\n",
       "</table>\n",
       "</div>"
      ],
      "text/plain": [
       "   passenger_count  pickup_longitude  pickup_latitude  dropoff_longitude  \\\n",
       "0                1        -73.982155        40.767937         -73.964630   \n",
       "1                1        -73.980415        40.738564         -73.999481   \n",
       "2                1        -73.979027        40.763939         -74.005333   \n",
       "3                1        -74.010040        40.719971         -74.012268   \n",
       "4                1        -73.973053        40.793209         -73.972923   \n",
       "\n",
       "   dropoff_latitude  trip_duration  hour  cday  month  distancia_viaje  \\\n",
       "0         40.765602            455    17     0      3         0.017680   \n",
       "1         40.731152            663     0     6      6         0.020456   \n",
       "2         40.710087           2124    11     1      1         0.059934   \n",
       "3         40.706718            429    19     2      4         0.013438   \n",
       "4         40.782520            435    13     5      3         0.010690   \n",
       "\n",
       "   distancia_viaje_km  grado_direccion  season  holiday  \n",
       "0            1.498523        99.970196       1        0  \n",
       "1            1.805510       242.846232       2        0  \n",
       "2            6.385108       200.319835       0        0  \n",
       "3            1.485501       187.262300       1        0  \n",
       "4            1.188590       179.473585       1        0  "
      ]
     },
     "execution_count": 115,
     "metadata": {},
     "output_type": "execute_result"
    }
   ],
   "source": [
    "from geopy.distance import great_circle\n",
    "import numpy as np\n",
    "\"\"\"extraer caract geograficas\"\"\"\n",
    "\n",
    "##Distancia en la geodesica\n",
    "def distance(p_lat,p_long,d_lat,d_long):\n",
    "    pickup = (p_lat, p_long)\n",
    "    dropoff = (d_lat, d_long)\n",
    "    distance_all=great_circle(pickup, dropoff).km\n",
    "    return distance_all\n",
    "\n",
    "##angulo central de dos puntos\n",
    "def grado(p_lat,p_long,d_lat,d_long):\n",
    "    lat1= np.radians(p_lat)\n",
    "    lat2= np.radians(d_lat)\n",
    "    dLon = np.radians(d_long - p_long)\n",
    "    y = np.sin(dLon)*np.cos(lat2)\n",
    "    x = np.cos(lat1)*np.sin(lat2) - np.sin(lat1)*np.cos(lat2)*np.cos(dLon)\n",
    "    return (np.degrees( np.arctan2(y,x) ) + 360 ) %360\n",
    "\n",
    "#feriados\n",
    "from pandas.tseries.holiday import USFederalHolidayCalendar\n",
    "cal = USFederalHolidayCalendar()\n",
    "holidays = cal.holidays(start='2015',end='2017')\n",
    "\n",
    "\n",
    "def preprocesar(df):\n",
    "    df.fillna(0,inplace=True)\n",
    "    \n",
    "    \"\"\"transformar fechas a tiempos\"\"\"\n",
    "    df['hour'] = pd.to_datetime(df['pickup_datetime']).dt.hour\n",
    "    df['hour'] = pd.to_numeric(df['hour'])\n",
    "    df['cday'] = pd.to_datetime(df['pickup_datetime']).dt.dayofweek #0:lunes,6:domingo\n",
    "    df['cday'] = pd.to_numeric(df['cday'])\n",
    "    df['month'] = pd.to_datetime(df['pickup_datetime']).dt.month #1:enero, 12: diciembre\n",
    "    df['month'] = pd.to_numeric(df['month'])\n",
    "    \n",
    "    \n",
    "    \n",
    "    \n",
    "    \"\"\"Feature Generation\"\"\"\n",
    "    df['distancia_viaje'] = np.sqrt( np.square(df['pickup_longitude']-df['dropoff_longitude']) \n",
    "                                    + np.square(df['pickup_latitude']-df['dropoff_latitude'])) #euclideana\n",
    "    distancia_real_aprox = [ distance(df['pickup_latitude'].values[i], \n",
    "                                 df['pickup_longitude'].values[i],\n",
    "                                 df['dropoff_latitude'].values[i],\n",
    "                                 df['dropoff_longitude'].values[i]) for i in range(len(df['pickup_latitude']))]\n",
    "    df['distancia_viaje_km'] = distancia_real_aprox\n",
    "    df['grado_direccion'] = [ grado(df['pickup_latitude'].values[i],  #agregar direccion (en base a grado)\n",
    "                                 df['pickup_longitude'].values[i],\n",
    "                                 df['dropoff_latitude'].values[i],\n",
    "                                 df['dropoff_longitude'].values[i]) for i in range(len(df['pickup_latitude']))]\n",
    "    seasons = [0,0,1,1,1,2]  #0: winter, 1: spring, 2: summer\n",
    "    df['season'] = [ seasons[df['month'].values[i] - 1] for i in range(len(df['month'])) ]  #agregar temporada\n",
    "    df['holiday'] = df['pickup_datetime'].isin(holidays) #holidays\n",
    "    \n",
    "    \n",
    "    \n",
    "    \"\"\" Eliminar columnas -- limpiar\"\"\"\n",
    "    df.drop([\"pickup_datetime\",\"dropoff_datetime\",\"id\",\"vendor_id\",\"store_and_fwd_flag\"], axis=1,inplace=True)\n",
    "    df[\"holiday\"] = df[\"holiday\"].astype('category')#a categorico\n",
    "    \n",
    "    \n",
    "    \"\"\"codifica\"\"\"\n",
    "    cat_columns = df.select_dtypes(['category']).columns\n",
    "    df[cat_columns] = df[cat_columns].apply(lambda x: x.cat.codes)\n",
    "preprocesar(df)\n",
    "df.head()"
   ]
  },
  {
   "cell_type": "markdown",
   "metadata": {},
   "source": [
    "Se hace un preprocesamiento para extraer las caracteristicas que se utilizaran y eliminar las redundantes. Las operaciones realizadas son:\n",
    "\n",
    "De la fecha  de cuando  parte y termina el viaje, se extrae:\n",
    "el dia y mes, dia de la semana, si es feriado, la estacion del año y la duracion del viaje.\n",
    "\n",
    "De las coordenadas de cuando parte y termina el viaje, se extrae:\n",
    "la distancia entre grados (esta no tiene sentido ya que son distancias de latitudes y longitudes), la distancia geodesica y el angulo central\n",
    "\n",
    "Este preprocesamiento se hace principalmente para mejorar el entrenamiento al pasarle al modelo la informacion relevante del problema."
   ]
  },
  {
   "cell_type": "markdown",
   "metadata": {},
   "source": [
    ">d) Cree las estructuras de los datos a utilizar, además de crear el conjunto de pruebas para validar los modelos ¿Cuáles son las dimensiones de cada conjunto? Normalice los datos, elija algún scaler y comente sobre su decisión."
   ]
  },
  {
   "cell_type": "code",
   "execution_count": 116,
   "metadata": {},
   "outputs": [],
   "source": [
    "y = df['trip_duration'].values\n",
    "df.drop(\"trip_duration\",axis=1,inplace=True)"
   ]
  },
  {
   "cell_type": "code",
   "execution_count": 134,
   "metadata": {},
   "outputs": [
    {
     "name": "stdout",
     "output_type": "stream",
     "text": [
      "train 14586\n",
      "test 100000\n"
     ]
    }
   ],
   "source": [
    "\n",
    "X = df.values\n",
    "from sklearn.model_selection import train_test_split\n",
    "X_train, X_test, y_train, y_test = train_test_split(X, y, test_size=0.99, random_state=42)\n",
    "from sklearn.preprocessing import RobustScaler,StandardScaler\n",
    "\n",
    "X_test=X_test[:100000]\n",
    "y_test=y_test[:100000]\n",
    "\n",
    "\n",
    "scaler = StandardScaler()\n",
    "scaler.fit(X_train)\n",
    "\n",
    "X_train_scaled = scaler.transform(X_train)\n",
    "X_test_scaled = scaler.transform(X_test)\n",
    "\n",
    "print(\"train\", len(X_train_scaled))\n",
    "print(\"test\", len(X_test_scaled))"
   ]
  },
  {
   "cell_type": "markdown",
   "metadata": {},
   "source": [
    "La diferencia entre el StandardScaler y RobustScaler, es que el standar deja los datos con media o y varianza 1, mientras que el robust deja los datos con mediana 0 y rango intercuartil 1 (diferencia entre el percentil 25 y 75), esto tiene la ventaja de reducir el efecto de los outliers, ya que se eliminaron los outliers se utilizara el scaler standar. Hay 14586 datos de entrenamiento y 10000 datos de validacion, estos se reducieron por temas de computo."
   ]
  },
  {
   "cell_type": "markdown",
   "metadata": {},
   "source": [
    ">e) En base a la definición del problema de ésta sección y a lo experimentado en la sección 1, escoga un modelo de aprendizaje para experimentar en la predicción de la duración del viaje, comente sobre su decisión. Entrene el modelo escogido, usando parámetros por defecto, sobre la representación escalada generada anteriormente y mida el error de la competencia RMSLE sobre ambos conjuntos, comente."
   ]
  },
  {
   "cell_type": "markdown",
   "metadata": {},
   "source": [
    "Se probara utilizara una SVM y una red neuronal."
   ]
  },
  {
   "cell_type": "code",
   "execution_count": 205,
   "metadata": {
    "scrolled": true
   },
   "outputs": [
    {
     "name": "stdout",
     "output_type": "stream",
     "text": [
      "ERROR RMSLE de training:  0.6631509520354643\n",
      "ERROR RMSLE de test:  0.6748340661367066\n"
     ]
    }
   ],
   "source": [
    "from sklearn.svm import SVR \n",
    "\n",
    "modelsvr= SVR()\n",
    "modelsvr.set_params(kernel='rbf')\n",
    "modelsvr.fit(X_train_scaled,y_train)\n",
    "print (\"ERROR RMSLE de training: \", rmsle(modelsvr.predict(X_train_scaled),y_train))\n",
    "print (\"ERROR RMSLE de test: \", rmsle(modelsvr.predict(X_test_scaled),y_test))"
   ]
  },
  {
   "cell_type": "markdown",
   "metadata": {},
   "source": [
    "Como es de esperar, el error es menor en el entrenamiento que en el testeo. "
   ]
  },
  {
   "cell_type": "code",
   "execution_count": 231,
   "metadata": {
    "scrolled": true
   },
   "outputs": [
    {
     "name": "stdout",
     "output_type": "stream",
     "text": [
      "Epoch 1/100\n",
      "14586/14586 [==============================] - 1s 56us/step - loss: 6.0287\n",
      "Epoch 2/100\n",
      "14586/14586 [==============================] - 0s 8us/step - loss: 5.2910\n",
      "Epoch 3/100\n",
      "14586/14586 [==============================] - 0s 8us/step - loss: 4.8769\n",
      "Epoch 4/100\n",
      "14586/14586 [==============================] - 0s 8us/step - loss: 4.5867\n",
      "Epoch 5/100\n",
      "14586/14586 [==============================] - 0s 8us/step - loss: 4.3510\n",
      "Epoch 6/100\n",
      "14586/14586 [==============================] - 0s 7us/step - loss: 4.1504\n",
      "Epoch 7/100\n",
      "14586/14586 [==============================] - 0s 8us/step - loss: 3.9760\n",
      "Epoch 8/100\n",
      "14586/14586 [==============================] - 0s 8us/step - loss: 3.8222\n",
      "Epoch 9/100\n",
      "14586/14586 [==============================] - 0s 7us/step - loss: 3.6847\n",
      "Epoch 10/100\n",
      "14586/14586 [==============================] - 0s 8us/step - loss: 3.5608\n",
      "Epoch 11/100\n",
      "14586/14586 [==============================] - 0s 7us/step - loss: 3.4482\n",
      "Epoch 12/100\n",
      "14586/14586 [==============================] - 0s 8us/step - loss: 3.3453\n",
      "Epoch 13/100\n",
      "14586/14586 [==============================] - 0s 8us/step - loss: 3.2506\n",
      "Epoch 14/100\n",
      "14586/14586 [==============================] - 0s 8us/step - loss: 3.1629\n",
      "Epoch 15/100\n",
      "14586/14586 [==============================] - 0s 8us/step - loss: 3.0813\n",
      "Epoch 16/100\n",
      "14586/14586 [==============================] - 0s 8us/step - loss: 3.0051\n",
      "Epoch 17/100\n",
      "14586/14586 [==============================] - 0s 7us/step - loss: 2.9337\n",
      "Epoch 18/100\n",
      "14586/14586 [==============================] - 0s 7us/step - loss: 2.8665\n",
      "Epoch 19/100\n",
      "14586/14586 [==============================] - 0s 8us/step - loss: 2.8031\n",
      "Epoch 20/100\n",
      "14586/14586 [==============================] - 0s 8us/step - loss: 2.7430\n",
      "Epoch 21/100\n",
      "14586/14586 [==============================] - 0s 8us/step - loss: 2.6861\n",
      "Epoch 22/100\n",
      "14586/14586 [==============================] - 0s 9us/step - loss: 2.6320\n",
      "Epoch 23/100\n",
      "14586/14586 [==============================] - 0s 8us/step - loss: 2.5804\n",
      "Epoch 24/100\n",
      "14586/14586 [==============================] - 0s 8us/step - loss: 2.5312\n",
      "Epoch 25/100\n",
      "14586/14586 [==============================] - 0s 8us/step - loss: 2.4841\n",
      "Epoch 26/100\n",
      "14586/14586 [==============================] - 0s 9us/step - loss: 2.4389\n",
      "Epoch 27/100\n",
      "14586/14586 [==============================] - 0s 8us/step - loss: 2.3956\n",
      "Epoch 28/100\n",
      "14586/14586 [==============================] - 0s 8us/step - loss: 2.3540\n",
      "Epoch 29/100\n",
      "14586/14586 [==============================] - 0s 8us/step - loss: 2.3140\n",
      "Epoch 30/100\n",
      "14586/14586 [==============================] - 0s 8us/step - loss: 2.2754\n",
      "Epoch 31/100\n",
      "14586/14586 [==============================] - 0s 8us/step - loss: 2.2382\n",
      "Epoch 32/100\n",
      "14586/14586 [==============================] - 0s 8us/step - loss: 2.2022\n",
      "Epoch 33/100\n",
      "14586/14586 [==============================] - 0s 7us/step - loss: 2.1675\n",
      "Epoch 34/100\n",
      "14586/14586 [==============================] - 0s 8us/step - loss: 2.1338\n",
      "Epoch 35/100\n",
      "14586/14586 [==============================] - 0s 9us/step - loss: 2.1013\n",
      "Epoch 36/100\n",
      "14586/14586 [==============================] - 0s 7us/step - loss: 2.0697\n",
      "Epoch 37/100\n",
      "14586/14586 [==============================] - 0s 8us/step - loss: 2.0392\n",
      "Epoch 38/100\n",
      "14586/14586 [==============================] - 0s 8us/step - loss: 2.0096\n",
      "Epoch 39/100\n",
      "14586/14586 [==============================] - 0s 9us/step - loss: 1.9809\n",
      "Epoch 40/100\n",
      "14586/14586 [==============================] - 0s 9us/step - loss: 1.9529\n",
      "Epoch 41/100\n",
      "14586/14586 [==============================] - 0s 10us/step - loss: 1.9258\n",
      "Epoch 42/100\n",
      "14586/14586 [==============================] - 0s 8us/step - loss: 1.8994\n",
      "Epoch 43/100\n",
      "14586/14586 [==============================] - 0s 8us/step - loss: 1.8737\n",
      "Epoch 44/100\n",
      "14586/14586 [==============================] - 0s 8us/step - loss: 1.8488\n",
      "Epoch 45/100\n",
      "14586/14586 [==============================] - 0s 8us/step - loss: 1.8244\n",
      "Epoch 46/100\n",
      "14586/14586 [==============================] - 0s 8us/step - loss: 1.8007\n",
      "Epoch 47/100\n",
      "14586/14586 [==============================] - 0s 8us/step - loss: 1.7777\n",
      "Epoch 48/100\n",
      "14586/14586 [==============================] - 0s 8us/step - loss: 1.7552\n",
      "Epoch 49/100\n",
      "14586/14586 [==============================] - 0s 8us/step - loss: 1.7333\n",
      "Epoch 50/100\n",
      "14586/14586 [==============================] - 0s 8us/step - loss: 1.7120\n",
      "Epoch 51/100\n",
      "14586/14586 [==============================] - 0s 8us/step - loss: 1.6911\n",
      "Epoch 52/100\n",
      "14586/14586 [==============================] - 0s 8us/step - loss: 1.6708\n",
      "Epoch 53/100\n",
      "14586/14586 [==============================] - 0s 7us/step - loss: 1.6510\n",
      "Epoch 54/100\n",
      "14586/14586 [==============================] - 0s 8us/step - loss: 1.6317\n",
      "Epoch 55/100\n",
      "14586/14586 [==============================] - 0s 8us/step - loss: 1.6129\n",
      "Epoch 56/100\n",
      "14586/14586 [==============================] - 0s 7us/step - loss: 1.5944\n",
      "Epoch 57/100\n",
      "14586/14586 [==============================] - 0s 7us/step - loss: 1.5764\n",
      "Epoch 58/100\n",
      "14586/14586 [==============================] - 0s 8us/step - loss: 1.5588\n",
      "Epoch 59/100\n",
      "14586/14586 [==============================] - 0s 8us/step - loss: 1.5416\n",
      "Epoch 60/100\n",
      "14586/14586 [==============================] - 0s 7us/step - loss: 1.5249\n",
      "Epoch 61/100\n",
      "14586/14586 [==============================] - 0s 8us/step - loss: 1.5084\n",
      "Epoch 62/100\n",
      "14586/14586 [==============================] - 0s 7us/step - loss: 1.4924\n",
      "Epoch 63/100\n",
      "14586/14586 [==============================] - 0s 8us/step - loss: 1.4767\n",
      "Epoch 64/100\n",
      "14586/14586 [==============================] - 0s 8us/step - loss: 1.4614\n",
      "Epoch 65/100\n",
      "14586/14586 [==============================] - 0s 8us/step - loss: 1.4464\n",
      "Epoch 66/100\n",
      "14586/14586 [==============================] - 0s 7us/step - loss: 1.4318\n",
      "Epoch 67/100\n",
      "14586/14586 [==============================] - 0s 8us/step - loss: 1.4174\n",
      "Epoch 68/100\n",
      "14586/14586 [==============================] - 0s 8us/step - loss: 1.4033\n",
      "Epoch 69/100\n",
      "14586/14586 [==============================] - 0s 9us/step - loss: 1.3895\n",
      "Epoch 70/100\n",
      "14586/14586 [==============================] - 0s 9us/step - loss: 1.3760\n",
      "Epoch 71/100\n",
      "14586/14586 [==============================] - 0s 8us/step - loss: 1.3628\n",
      "Epoch 72/100\n",
      "14586/14586 [==============================] - 0s 9us/step - loss: 1.3499\n",
      "Epoch 73/100\n",
      "14586/14586 [==============================] - 0s 7us/step - loss: 1.3372\n",
      "Epoch 74/100\n",
      "14586/14586 [==============================] - 0s 7us/step - loss: 1.3248\n",
      "Epoch 75/100\n",
      "14586/14586 [==============================] - 0s 7us/step - loss: 1.3127\n",
      "Epoch 76/100\n",
      "14586/14586 [==============================] - 0s 8us/step - loss: 1.3008\n",
      "Epoch 77/100\n",
      "14586/14586 [==============================] - 0s 8us/step - loss: 1.2891\n",
      "Epoch 78/100\n",
      "14586/14586 [==============================] - 0s 8us/step - loss: 1.2777\n",
      "Epoch 79/100\n",
      "14586/14586 [==============================] - 0s 7us/step - loss: 1.2665\n",
      "Epoch 80/100\n",
      "14586/14586 [==============================] - 0s 8us/step - loss: 1.2555\n",
      "Epoch 81/100\n",
      "14586/14586 [==============================] - 0s 8us/step - loss: 1.2447\n",
      "Epoch 82/100\n",
      "14586/14586 [==============================] - 0s 7us/step - loss: 1.2342\n",
      "Epoch 83/100\n",
      "14586/14586 [==============================] - 0s 8us/step - loss: 1.2238\n",
      "Epoch 84/100\n",
      "14586/14586 [==============================] - 0s 7us/step - loss: 1.2136\n",
      "Epoch 85/100\n",
      "14586/14586 [==============================] - 0s 7us/step - loss: 1.2036\n",
      "Epoch 86/100\n",
      "14586/14586 [==============================] - 0s 7us/step - loss: 1.1937\n",
      "Epoch 87/100\n",
      "14586/14586 [==============================] - 0s 7us/step - loss: 1.1841\n",
      "Epoch 88/100\n",
      "14586/14586 [==============================] - 0s 7us/step - loss: 1.1746\n",
      "Epoch 89/100\n",
      "14586/14586 [==============================] - 0s 8us/step - loss: 1.1653\n",
      "Epoch 90/100\n",
      "14586/14586 [==============================] - 0s 8us/step - loss: 1.1562\n",
      "Epoch 91/100\n",
      "14586/14586 [==============================] - 0s 8us/step - loss: 1.1473\n",
      "Epoch 92/100\n",
      "14586/14586 [==============================] - 0s 9us/step - loss: 1.1385\n",
      "Epoch 93/100\n",
      "14586/14586 [==============================] - 0s 8us/step - loss: 1.1298\n",
      "Epoch 94/100\n",
      "14586/14586 [==============================] - 0s 8us/step - loss: 1.1213\n",
      "Epoch 95/100\n"
     ]
    },
    {
     "name": "stdout",
     "output_type": "stream",
     "text": [
      "14586/14586 [==============================] - 0s 8us/step - loss: 1.1130\n",
      "Epoch 96/100\n",
      "14586/14586 [==============================] - 0s 7us/step - loss: 1.1048\n",
      "Epoch 97/100\n",
      "14586/14586 [==============================] - 0s 7us/step - loss: 1.0968\n",
      "Epoch 98/100\n",
      "14586/14586 [==============================] - 0s 8us/step - loss: 1.0889\n",
      "Epoch 99/100\n",
      "14586/14586 [==============================] - 0s 8us/step - loss: 1.0811\n",
      "Epoch 100/100\n",
      "14586/14586 [==============================] - 0s 7us/step - loss: 1.0734\n",
      "ERROR RMSLE de training:  [1.2599216]\n",
      "ERROR RMSLE de test:  [1.26680226]\n"
     ]
    }
   ],
   "source": [
    "from keras.models import Sequential\n",
    "from keras.layers.core import Dense \n",
    "from keras import backend as K\n",
    "import tensorflow as tf\n",
    "\n",
    "def custom_rmsle(y_true, y_pred):\n",
    "    y_true = tf.cast(y_true, dtype=tf.float32)\n",
    "\n",
    "    y_pred_log = K.log(y_pred + 1.)\n",
    "    y_true_log = K.log(y_true + 1.)\n",
    "    \n",
    "    return K.sqrt(K.mean(K.square(y_pred_log - y_true_log), axis = -1))\n",
    "\n",
    "modelred = Sequential()\n",
    "modelred.add(Dense(10, input_dim=X_train.shape[1], activation=\"relu\"))\n",
    "modelred.add(Dense(1, activation=\"relu\"))\n",
    "modelred.compile(optimizer = \"SGD\", loss = custom_rmsle)\n",
    "\n",
    "modelred.fit(X_train_scaled, y_train, epochs=100, batch_size=100)\n",
    "\n",
    "print (\"ERROR RMSLE de training: \", rmsle(modelred.predict(X_train_scaled),y_train))\n",
    "print (\"ERROR RMSLE de test: \", rmsle(modelred.predict(X_test_scaled),y_test))\n"
   ]
  },
  {
   "cell_type": "markdown",
   "metadata": {},
   "source": [
    "Para la red se obtienen resultados levemente mejores que la SVM, es el modelo que se ocupara en adelante."
   ]
  },
  {
   "cell_type": "markdown",
   "metadata": {},
   "source": [
    ">f) Grafique las predicciones generadas por su modelo vs el valor real ¿Cuál es el comportamiento esperado? ¿Su resultado se asemeja a éste? ¿Por qué?"
   ]
  },
  {
   "cell_type": "code",
   "execution_count": 232,
   "metadata": {},
   "outputs": [
    {
     "data": {
      "image/png": "[encoded data removed]",
      "text/plain": [
       "<Figure size 864x576 with 1 Axes>"
      ]
     },
     "metadata": {},
     "output_type": "display_data"
    }
   ],
   "source": [
    "def graficar_predicciones(real,predecido,title):\n",
    "    plt.figure(figsize=(12,8))\n",
    "    plt.plot(real,predecido,'b.')\n",
    "    valor_max = int( np.max( [np.max(predecido),np.max(real)]))\n",
    "    valor_min = int( np.min( [np.min(predecido),np.min(real)]))\n",
    "    plt.plot(range(valor_min,valor_max+1), range(valor_min,valor_max+1), color =\"r\")\n",
    "    plt.axis('tight')\n",
    "    plt.xlabel('Valor Real')\n",
    "    plt.ylabel('Prediccion')\n",
    "    plt.title(title)\n",
    "    plt.show()\n",
    "graficar_predicciones(y_test,modelred.predict(X_test_scaled),'Red Neuronal')"
   ]
  },
  {
   "cell_type": "markdown",
   "metadata": {},
   "source": [
    "Se espera que los puntos esten cercanos a la recta x=y, sin embargo esta claro que el modelo subestima los valores reales, se conjetura que haciendo un refinamiento correcto de los hiper parametros se obtendran mejores resultados."
   ]
  },
  {
   "cell_type": "markdown",
   "metadata": {},
   "source": [
    ">g) Mejore el desempeño del modelo de aprendizaje definido en e) haciendo modificaciones a los hiper-parámetros del modelo. Por ejemplo, tener ojo con el sobre-ajuste del modelo. Naturalmente, está absolutamente prohibido tomar este tipo de decisiones en función del resultado de pruebas. Debe realizar estas elecciones evaluando sobre el conjunto de validación. Si no desea utilizarlo, y prefiere implementar validación cruzada u otra técnica automática, tiene la ventaja de poder usar el conjunto de validación como parte del entrenamiento. "
   ]
  },
  {
   "cell_type": "markdown",
   "metadata": {},
   "source": [
    "Se cambia la topologia de la red a una de dos capas con 1000 neuronas cada una. Para evitar el overfitting se utiliza la tecnica del \"dropout\", que fuerza a una proporcion de las neuronas en una capa a anularse, esto tiene un efecto regularizante sobre la red."
   ]
  },
  {
   "cell_type": "code",
   "execution_count": 238,
   "metadata": {
    "scrolled": true
   },
   "outputs": [
    {
     "name": "stdout",
     "output_type": "stream",
     "text": [
      "Epoch 1/100\n",
      "14586/14586 [==============================] - 3s 176us/step - loss: 5.2361\n",
      "Epoch 2/100\n",
      "14586/14586 [==============================] - 2s 119us/step - loss: 4.2196\n",
      "Epoch 3/100\n",
      "14586/14586 [==============================] - 2s 116us/step - loss: 3.6344\n",
      "Epoch 4/100\n",
      "14586/14586 [==============================] - 2s 116us/step - loss: 3.2083\n",
      "Epoch 5/100\n",
      "14586/14586 [==============================] - 2s 122us/step - loss: 2.8722\n",
      "Epoch 6/100\n",
      "14586/14586 [==============================] - 2s 126us/step - loss: 2.5937\n",
      "Epoch 7/100\n",
      "14586/14586 [==============================] - 2s 125us/step - loss: 2.3576\n",
      "Epoch 8/100\n",
      "14586/14586 [==============================] - 2s 114us/step - loss: 2.1534\n",
      "Epoch 9/100\n",
      "14586/14586 [==============================] - 2s 115us/step - loss: 1.9735\n",
      "Epoch 10/100\n",
      "14586/14586 [==============================] - 2s 121us/step - loss: 1.8150\n",
      "Epoch 11/100\n",
      "14586/14586 [==============================] - 2s 115us/step - loss: 1.6740\n",
      "Epoch 12/100\n",
      "14586/14586 [==============================] - 2s 117us/step - loss: 1.5489\n",
      "Epoch 13/100\n",
      "14586/14586 [==============================] - 2s 119us/step - loss: 1.4380\n",
      "Epoch 14/100\n",
      "14586/14586 [==============================] - 2s 120us/step - loss: 1.3393\n",
      "Epoch 15/100\n",
      "14586/14586 [==============================] - 2s 123us/step - loss: 1.2518\n",
      "Epoch 16/100\n",
      "14586/14586 [==============================] - 2s 127us/step - loss: 1.1764\n",
      "Epoch 17/100\n",
      "14586/14586 [==============================] - 2s 122us/step - loss: 1.1080\n",
      "Epoch 18/100\n",
      "14586/14586 [==============================] - 2s 122us/step - loss: 1.0472\n",
      "Epoch 19/100\n",
      "14586/14586 [==============================] - 2s 122us/step - loss: 0.9953\n",
      "Epoch 20/100\n",
      "14586/14586 [==============================] - 2s 122us/step - loss: 0.9481\n",
      "Epoch 21/100\n",
      "14586/14586 [==============================] - 2s 122us/step - loss: 0.9083\n",
      "Epoch 22/100\n",
      "14586/14586 [==============================] - 2s 121us/step - loss: 0.8717\n",
      "Epoch 23/100\n",
      "14586/14586 [==============================] - 2s 128us/step - loss: 0.8403\n",
      "Epoch 24/100\n",
      "14586/14586 [==============================] - 2s 125us/step - loss: 0.8122\n",
      "Epoch 25/100\n",
      "14586/14586 [==============================] - 2s 124us/step - loss: 0.7862\n",
      "Epoch 26/100\n",
      "14586/14586 [==============================] - 2s 121us/step - loss: 0.7642\n",
      "Epoch 27/100\n",
      "14586/14586 [==============================] - 2s 122us/step - loss: 0.7437\n",
      "Epoch 28/100\n",
      "14586/14586 [==============================] - 2s 121us/step - loss: 0.7254\n",
      "Epoch 29/100\n",
      "14586/14586 [==============================] - 2s 129us/step - loss: 0.7089\n",
      "Epoch 30/100\n",
      "14586/14586 [==============================] - 2s 126us/step - loss: 0.6931\n",
      "Epoch 31/100\n",
      "14586/14586 [==============================] - 2s 128us/step - loss: 0.6795\n",
      "Epoch 32/100\n",
      "14586/14586 [==============================] - 2s 129us/step - loss: 0.6671\n",
      "Epoch 33/100\n",
      "14586/14586 [==============================] - 2s 121us/step - loss: 0.6543\n",
      "Epoch 34/100\n",
      "14586/14586 [==============================] - 2s 128us/step - loss: 0.6444\n",
      "Epoch 35/100\n",
      "14586/14586 [==============================] - 2s 130us/step - loss: 0.6335\n",
      "Epoch 36/100\n",
      "14586/14586 [==============================] - 2s 120us/step - loss: 0.6242\n",
      "Epoch 37/100\n",
      "14586/14586 [==============================] - 2s 121us/step - loss: 0.6159\n",
      "Epoch 38/100\n",
      "14586/14586 [==============================] - 2s 122us/step - loss: 0.6072\n",
      "Epoch 39/100\n",
      "14586/14586 [==============================] - 2s 128us/step - loss: 0.6001\n",
      "Epoch 40/100\n",
      "14586/14586 [==============================] - 2s 130us/step - loss: 0.5919\n",
      "Epoch 41/100\n",
      "14586/14586 [==============================] - 2s 143us/step - loss: 0.5852\n",
      "Epoch 42/100\n",
      "14586/14586 [==============================] - 2s 142us/step - loss: 0.5787\n",
      "Epoch 43/100\n",
      "14586/14586 [==============================] - 2s 136us/step - loss: 0.5720\n",
      "Epoch 44/100\n",
      "14586/14586 [==============================] - 2s 133us/step - loss: 0.5657\n",
      "Epoch 45/100\n",
      "14586/14586 [==============================] - 2s 141us/step - loss: 0.5598\n",
      "Epoch 46/100\n",
      "14586/14586 [==============================] - 2s 122us/step - loss: 0.5547\n",
      "Epoch 47/100\n",
      "14586/14586 [==============================] - 2s 124us/step - loss: 0.5491\n",
      "Epoch 48/100\n",
      "14586/14586 [==============================] - 2s 123us/step - loss: 0.5444\n",
      "Epoch 49/100\n",
      "14586/14586 [==============================] - 2s 124us/step - loss: 0.5388\n",
      "Epoch 50/100\n",
      "14586/14586 [==============================] - 2s 125us/step - loss: 0.5337\n",
      "Epoch 51/100\n",
      "14586/14586 [==============================] - 2s 127us/step - loss: 0.5293\n",
      "Epoch 52/100\n",
      "14586/14586 [==============================] - 2s 125us/step - loss: 0.5250\n",
      "Epoch 53/100\n",
      "14586/14586 [==============================] - 2s 127us/step - loss: 0.5213\n",
      "Epoch 54/100\n",
      "14586/14586 [==============================] - 2s 120us/step - loss: 0.5172\n",
      "Epoch 55/100\n",
      "14586/14586 [==============================] - 2s 124us/step - loss: 0.5131\n",
      "Epoch 56/100\n",
      "14586/14586 [==============================] - 2s 126us/step - loss: 0.5086\n",
      "Epoch 57/100\n",
      "14586/14586 [==============================] - 2s 126us/step - loss: 0.5053\n",
      "Epoch 58/100\n",
      "14586/14586 [==============================] - 2s 131us/step - loss: 0.5019\n",
      "Epoch 59/100\n",
      "14586/14586 [==============================] - 2s 136us/step - loss: 0.4985\n",
      "Epoch 60/100\n",
      "14586/14586 [==============================] - 2s 128us/step - loss: 0.4949\n",
      "Epoch 61/100\n",
      "14586/14586 [==============================] - 2s 129us/step - loss: 0.4917\n",
      "Epoch 62/100\n",
      "14586/14586 [==============================] - 2s 135us/step - loss: 0.4878\n",
      "Epoch 63/100\n",
      "14586/14586 [==============================] - 2s 136us/step - loss: 0.4858\n",
      "Epoch 64/100\n",
      "14586/14586 [==============================] - 2s 130us/step - loss: 0.4828\n",
      "Epoch 65/100\n",
      "14586/14586 [==============================] - 2s 130us/step - loss: 0.4803\n",
      "Epoch 66/100\n",
      "14586/14586 [==============================] - 2s 134us/step - loss: 0.4770\n",
      "Epoch 67/100\n",
      "14586/14586 [==============================] - 2s 139us/step - loss: 0.4746\n",
      "Epoch 68/100\n",
      "14586/14586 [==============================] - 2s 145us/step - loss: 0.4715\n",
      "Epoch 69/100\n",
      "14586/14586 [==============================] - 2s 134us/step - loss: 0.4700\n",
      "Epoch 70/100\n",
      "14586/14586 [==============================] - 2s 139us/step - loss: 0.4684\n",
      "Epoch 71/100\n",
      "14586/14586 [==============================] - 2s 125us/step - loss: 0.4651\n",
      "Epoch 72/100\n",
      "14586/14586 [==============================] - 2s 121us/step - loss: 0.4639\n",
      "Epoch 73/100\n",
      "14586/14586 [==============================] - 2s 121us/step - loss: 0.4619\n",
      "Epoch 74/100\n",
      "14586/14586 [==============================] - 2s 121us/step - loss: 0.4592\n",
      "Epoch 75/100\n",
      "14586/14586 [==============================] - 2s 134us/step - loss: 0.4583\n",
      "Epoch 76/100\n",
      "14586/14586 [==============================] - 2s 131us/step - loss: 0.4554\n",
      "Epoch 77/100\n",
      "14586/14586 [==============================] - 2s 132us/step - loss: 0.4532\n",
      "Epoch 78/100\n",
      "14586/14586 [==============================] - 2s 125us/step - loss: 0.4519\n",
      "Epoch 79/100\n",
      "14586/14586 [==============================] - 2s 125us/step - loss: 0.4503\n",
      "Epoch 80/100\n",
      "14586/14586 [==============================] - 2s 127us/step - loss: 0.4484\n",
      "Epoch 81/100\n",
      "14586/14586 [==============================] - 2s 125us/step - loss: 0.4472\n",
      "Epoch 82/100\n",
      "14586/14586 [==============================] - 2s 124us/step - loss: 0.4456\n",
      "Epoch 83/100\n",
      "14586/14586 [==============================] - 2s 134us/step - loss: 0.4445\n",
      "Epoch 84/100\n",
      "14586/14586 [==============================] - 2s 137us/step - loss: 0.4426\n",
      "Epoch 85/100\n",
      "14586/14586 [==============================] - 2s 123us/step - loss: 0.4413\n",
      "Epoch 86/100\n",
      "14586/14586 [==============================] - 2s 123us/step - loss: 0.4404\n",
      "Epoch 87/100\n",
      "14586/14586 [==============================] - 2s 123us/step - loss: 0.4390\n",
      "Epoch 88/100\n",
      "14586/14586 [==============================] - 2s 127us/step - loss: 0.4370\n",
      "Epoch 89/100\n",
      "14586/14586 [==============================] - 2s 121us/step - loss: 0.4359\n",
      "Epoch 90/100\n",
      "14586/14586 [==============================] - 2s 121us/step - loss: 0.4345\n",
      "Epoch 91/100\n",
      "14586/14586 [==============================] - 2s 122us/step - loss: 0.4334\n",
      "Epoch 92/100\n",
      "14586/14586 [==============================] - 2s 122us/step - loss: 0.4326\n",
      "Epoch 93/100\n"
     ]
    },
    {
     "name": "stdout",
     "output_type": "stream",
     "text": [
      "14586/14586 [==============================] - 2s 127us/step - loss: 0.4317\n",
      "Epoch 94/100\n",
      "14586/14586 [==============================] - 2s 135us/step - loss: 0.4303\n",
      "Epoch 95/100\n",
      "14586/14586 [==============================] - 2s 132us/step - loss: 0.4290\n",
      "Epoch 96/100\n",
      "14586/14586 [==============================] - 2s 127us/step - loss: 0.4282\n",
      "Epoch 97/100\n",
      "14586/14586 [==============================] - 2s 128us/step - loss: 0.4278\n",
      "Epoch 98/100\n",
      "14586/14586 [==============================] - 2s 125us/step - loss: 0.4263\n",
      "Epoch 99/100\n",
      "14586/14586 [==============================] - 2s 121us/step - loss: 0.4258\n",
      "Epoch 100/100\n",
      "14586/14586 [==============================] - 2s 122us/step - loss: 0.4251\n",
      "ERROR RMSLE de training:  [0.5955489]\n",
      "ERROR RMSLE de test:  [0.60877846]\n"
     ]
    }
   ],
   "source": [
    "from keras.layers.core import Dropout\n",
    "\n",
    "modelred = Sequential()\n",
    "modelred.add(Dense(1000, input_dim=X_train.shape[1], activation=\"relu\"))\n",
    "modelred.add(Dropout(0.4))\n",
    "modelred.add(Dense(1000, input_dim=X_train.shape[1], activation=\"relu\"))\n",
    "modelred.add(Dense(1, activation=\"relu\"))\n",
    "modelred.compile(optimizer = \"SGD\", loss = custom_rmsle)\n",
    "\n",
    "modelred.fit(X_train_scaled, y_train, epochs=100, batch_size=100)\n",
    "\n",
    "print (\"ERROR RMSLE de training: \", rmsle(modelred.predict(X_train_scaled),y_train))\n",
    "print (\"ERROR RMSLE de test: \", rmsle(modelred.predict(X_test_scaled),y_test))\n"
   ]
  },
  {
   "cell_type": "code",
   "execution_count": 239,
   "metadata": {},
   "outputs": [
    {
     "data": {
      "image/png": "[encoded data removed]",
      "text/plain": [
       "<Figure size 864x576 with 1 Axes>"
      ]
     },
     "metadata": {},
     "output_type": "display_data"
    }
   ],
   "source": [
    "def graficar_predicciones(real,predecido,title):\n",
    "    plt.figure(figsize=(12,8))\n",
    "    plt.plot(real,predecido,'b.')\n",
    "    valor_max = int( np.max( [np.max(predecido),np.max(real)]))\n",
    "    valor_min = int( np.min( [np.min(predecido),np.min(real)]))\n",
    "    plt.plot(range(valor_min,valor_max+1), range(valor_min,valor_max+1), color =\"r\")\n",
    "    plt.axis('tight')\n",
    "    plt.xlabel('Valor Real')\n",
    "    plt.ylabel('Prediccion')\n",
    "    plt.title(title)\n",
    "    plt.show()\n",
    "graficar_predicciones(y_test,modelred.predict(X_test_scaled),'Red neuronal')"
   ]
  },
  {
   "cell_type": "markdown",
   "metadata": {},
   "source": [
    "Hay una mejora en el el error de los datos, sin embargo, la curva de comparacion prediccion y real esta lejos de ser satisfactoria."
   ]
  }
 ],
 "metadata": {
  "kernelspec": {
   "display_name": "Python 3",
   "language": "python",
   "name": "python3"
  },
  "language_info": {
   "codemirror_mode": {
    "name": "ipython",
    "version": 3
   },
   "file_extension": ".py",
   "mimetype": "text/x-python",
   "name": "python",
   "nbconvert_exporter": "python",
   "pygments_lexer": "ipython3",
   "version": "3.6.5"
  }
 },
 "nbformat": 4,
 "nbformat_minor": 2
}
